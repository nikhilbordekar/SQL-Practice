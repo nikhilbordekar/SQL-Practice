{
  "nbformat": 4,
  "nbformat_minor": 0,
  "metadata": {
    "colab": {
      "provenance": [],
      "authorship_tag": "ABX9TyN8fOgKChNZFVd8AvhU/25s",
      "include_colab_link": true
    },
    "kernelspec": {
      "name": "python3",
      "display_name": "Python 3"
    },
    "language_info": {
      "name": "python"
    }
  },
  "cells": [
    {
      "cell_type": "markdown",
      "metadata": {
        "id": "view-in-github",
        "colab_type": "text"
      },
      "source": [
        "<a href=\"https://colab.research.google.com/github/nikhilbordekar/SQL-Practice/blob/main/SQL_file.ipynb\" target=\"_parent\"><img src=\"https://colab.research.google.com/assets/colab-badge.svg\" alt=\"Open In Colab\"/></a>"
      ]
    },
    {
      "cell_type": "markdown",
      "source": [
        "# **Nikhil Bordekar's Notes**"
      ],
      "metadata": {
        "id": "-EFXVZpLjJvq"
      }
    },
    {
      "cell_type": "markdown",
      "source": [
        "##`SELECT` & `WHERE`\n",
        "\n",
        "In SQL, the SELECT and WHERE clauses are fundamental components used for filtering and selecting data from a database\n",
        "```sql\n",
        "SELECT first_name, last_name\n",
        "FROM employees\n",
        "WHERE department = 'HR' AND salary > 50000;\n",
        "```\n",
        "In this example, the SELECT clause specifies the columns (first_name and last_name) to be included in the result set. The WHERE clause filters the rows, ensuring that only employees in the 'HR' department with a salary greater than 50,000 are selected.\n",
        "\n",
        "These clauses are essential for retrieving specific data from a database, enabling you to tailor your query results to your precise requirements."
      ],
      "metadata": {
        "id": "yigjTi9sjVmC"
      }
    },
    {
      "cell_type": "markdown",
      "source": [],
      "metadata": {
        "id": "t_cHCfh2jnXj"
      }
    }
  ]
}