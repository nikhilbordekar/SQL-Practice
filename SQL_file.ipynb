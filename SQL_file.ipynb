{
  "nbformat": 4,
  "nbformat_minor": 0,
  "metadata": {
    "colab": {
      "provenance": [],
      "authorship_tag": "ABX9TyMS4MeXsk1xgtkGUtASqf9J",
      "include_colab_link": true
    },
    "kernelspec": {
      "name": "python3",
      "display_name": "Python 3"
    },
    "language_info": {
      "name": "python"
    }
  },
  "cells": [
    {
      "cell_type": "markdown",
      "metadata": {
        "id": "view-in-github",
        "colab_type": "text"
      },
      "source": [
        "<a href=\"https://colab.research.google.com/github/nikhilbordekar/SQL-Practice/blob/main/SQL_file.ipynb\" target=\"_parent\"><img src=\"https://colab.research.google.com/assets/colab-badge.svg\" alt=\"Open In Colab\"/></a>"
      ]
    },
    {
      "cell_type": "markdown",
      "source": [
        "# **Nikhil Bordekar's Notes**"
      ],
      "metadata": {
        "id": "-EFXVZpLjJvq"
      }
    },
    {
      "cell_type": "markdown",
      "source": [
        "##`SELECT` & `WHERE`\n",
        "\n",
        "In SQL, the SELECT and WHERE clauses are fundamental components used for filtering and selecting data from a database\n",
        "```sql\n",
        "SELECT first_name, last_name\n",
        "FROM employees\n",
        "WHERE department = 'HR' AND salary > 50000;\n",
        "```\n",
        "In this example, the SELECT clause specifies the columns (first_name and last_name) to be included in the result set. The WHERE clause filters the rows, ensuring that only employees in the 'HR' department with a salary greater than 50,000 are selected.\n",
        "\n",
        "These clauses are essential for retrieving specific data from a database, enabling you to tailor your query results to your precise requirements."
      ],
      "metadata": {
        "id": "yigjTi9sjVmC"
      }
    },
    {
      "cell_type": "markdown",
      "source": [
        "## `AGGREGATE FUNCTIONS`\n",
        "\n",
        "Here are examples of how to use `COUNT`, `SUM`, `MAX`, `GROUP BY`, and `HAVING` to aggregate data using SQL code:\n",
        "\n",
        "Let's say we have a table named `orders` with the following columns: `order_id`, `customer_id`, `order_date`, and `total_amount`.\n",
        "\n",
        "1. **COUNT**: To count the number of orders for each customer:\n",
        "\n",
        "```sql\n",
        "SELECT customer_id, COUNT(order_id) AS order_count\n",
        "FROM orders\n",
        "GROUP BY customer_id;\n",
        "```\n",
        "\n",
        "2. **SUM**: To calculate the total amount spent by each customer:\n",
        "\n",
        "```sql\n",
        "SELECT customer_id, SUM(total_amount) AS total_spent\n",
        "FROM orders\n",
        "GROUP BY customer_id;\n",
        "```\n",
        "\n",
        "3. **MAX**: To find the highest order amount for each customer:\n",
        "\n",
        "```sql\n",
        "SELECT customer_id, MAX(total_amount) AS max_order_amount\n",
        "FROM orders\n",
        "GROUP BY customer_id;\n",
        "```\n",
        "\n",
        "4. **GROUP BY**: To group the results by a specific column (e.g., `order_date`) and then aggregate:\n",
        "\n",
        "```sql\n",
        "SELECT order_date, COUNT(order_id) AS order_count, SUM(total_amount) AS total_spent\n",
        "FROM orders\n",
        "GROUP BY order_date;\n",
        "```\n",
        "\n",
        "5. **HAVING**: To filter the results of a grouped query based on an aggregate condition (e.g., customers who have spent more than $1,000):\n",
        "\n",
        "```sql\n",
        "SELECT customer_id, SUM(total_amount) AS total_spent\n",
        "FROM orders\n",
        "GROUP BY customer_id\n",
        "HAVING SUM(total_amount) > 1000;\n",
        "```\n",
        "\n",
        "In this example, the `HAVING` clause filters the results to include only those customers whose total spending (`SUM(total_amount)`) is greater than $1,000.\n",
        "\n",
        "These SQL queries demonstrate how to use aggregate functions (`COUNT`, `SUM`, `MAX`) along with `GROUP BY` and `HAVING` to analyze and summarize data in a database."
      ],
      "metadata": {
        "id": "t_cHCfh2jnXj"
      }
    },
    {
      "cell_type": "markdown",
      "source": [],
      "metadata": {
        "id": "MNtpmaCXW_rB"
      }
    }
  ]
}