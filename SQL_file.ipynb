{
  "nbformat": 4,
  "nbformat_minor": 0,
  "metadata": {
    "colab": {
      "provenance": [],
      "authorship_tag": "ABX9TyNL4nZ9lXLQ1jk4LVO0txRj",
      "include_colab_link": true
    },
    "kernelspec": {
      "name": "python3",
      "display_name": "Python 3"
    },
    "language_info": {
      "name": "python"
    }
  },
  "cells": [
    {
      "cell_type": "markdown",
      "metadata": {
        "id": "view-in-github",
        "colab_type": "text"
      },
      "source": [
        "<a href=\"https://colab.research.google.com/github/nikhilbordekar/SQL-Practice/blob/main/SQL_file.ipynb\" target=\"_parent\"><img src=\"https://colab.research.google.com/assets/colab-badge.svg\" alt=\"Open In Colab\"/></a>"
      ]
    },
    {
      "cell_type": "markdown",
      "source": [
        "# **Nikhil Bordekar's Notes**"
      ],
      "metadata": {
        "id": "-EFXVZpLjJvq"
      }
    },
    {
      "cell_type": "markdown",
      "source": [
        "## SQL CREATE TABLE STATEMENT:\n",
        "\n",
        "The SQL CREATE TABLE statement is used to define and create a new table in a relational database. This statement specifies the table's name and the structure of its columns. The general syntax for creating a table is as follows:\n",
        "\n",
        "```sql\n",
        "CREATE TABLE table_name (\n",
        "    column1 datatype,\n",
        "    column2 datatype,\n",
        "    ...\n",
        "    columnN datatype\n",
        ");\n",
        "```\n",
        "\n",
        "Example:\n",
        "\n",
        "Let's create a simple table named \"Employees\" with columns for employee information:\n",
        "\n",
        "```sql\n",
        "CREATE TABLE Employees (\n",
        "    EmployeeID INT,\n",
        "    FirstName VARCHAR(50),\n",
        "    LastName VARCHAR(50),\n",
        "    Email VARCHAR(100),\n",
        "    HireDate DATE\n",
        ");\n",
        "```\n",
        "\n"
      ],
      "metadata": {
        "id": "SL84Xz3zfnYI"
      }
    },
    {
      "cell_type": "markdown",
      "source": [
        "\n",
        "## SQL INSERT INTO STATEMENT:\n",
        "\n",
        "The SQL INSERT INTO statement is used to insert new records or rows into an existing table in a relational database. You specify the table where the data should be inserted and provide the values or data for each column in the table. The general syntax for the INSERT INTO statement is as follows:\n",
        "\n",
        "```sql\n",
        "INSERT INTO table_name (column1, column2, column3, ...)\n",
        "VALUES (value1, value2, value3, ...);\n",
        "```\n",
        "Now, let's insert a new employee into the \"Employees\" table:\n",
        "```sql\n",
        "INSERT INTO Employees (EmployeeID, FirstName, LastName, Email, HireDate)\n",
        "VALUES (3, 'Alice', 'Williams', 'alice.w@email.com', '2023-03-10');\n",
        "```\n"
      ],
      "metadata": {
        "id": "Lj_ZyzVhkWLb"
      }
    },
    {
      "cell_type": "markdown",
      "source": [
        "## ALTER TABLE STATEMENT (TO CHANGE COLUMN NAME)\n",
        "\n",
        "To change the name of a column in an SQL table, you can use the ALTER TABLE statement with the RENAME COLUMN clause. The specific syntax can vary slightly depending on the database management system (DBMS) you are using. Below, I'll provide a general example using standard SQL syntax:\n",
        "\n",
        "```sql\n",
        "ALTER TABLE table_name\n",
        "CHANGE COLUMN old_column_name new_column_name data_type;\n",
        "```\n",
        "Example:\n",
        "\n",
        "Suppose you have a table named \"Employees\" with a column named \"EmployeeLastName,\" and you want to change it to \"EmployeeSurname.\" You can use the following SQL statement:\n",
        "\n",
        "```sql\n",
        "ALTER TABLE Employees\n",
        "CHANGE COLUMN EmployeeLastName EmployeeSurname VARCHAR(50);\n",
        "\n",
        "```"
      ],
      "metadata": {
        "id": "PsftU2fglYeY"
      }
    },
    {
      "cell_type": "markdown",
      "source": [
        "##`SELECT` & `WHERE`\n",
        "\n",
        "In SQL, the SELECT and WHERE clauses are fundamental components used for filtering and selecting data from a database\n",
        "```sql\n",
        "SELECT first_name, last_name\n",
        "FROM employees\n",
        "WHERE department = 'HR' AND salary > 50000;\n",
        "```\n",
        "In this example, the SELECT clause specifies the columns (first_name and last_name) to be included in the result set. The WHERE clause filters the rows, ensuring that only employees in the 'HR' department with a salary greater than 50,000 are selected.\n",
        "\n",
        "These clauses are essential for retrieving specific data from a database, enabling you to tailor your query results to your precise requirements."
      ],
      "metadata": {
        "id": "yigjTi9sjVmC"
      }
    },
    {
      "cell_type": "markdown",
      "source": [
        "## UPDATE STATEMENET (TO UPDATE VALUE IN THE COLUMN)\n",
        "\n",
        "\n",
        "To change the values in a column of an SQL table, you can use the UPDATE statement. The UPDATE statement allows you to modify existing data in a table based on a specified condition. Here's the basic syntax for updating values in a column:\n",
        "\n",
        "```sql\n",
        "UPDATE table_name\n",
        "SET column_name = new_value\n",
        "WHERE condition;\n",
        "```\n",
        "Example:\n",
        "\n",
        "Suppose you have a table named \"Students\" with a column \"Grade,\" and you want to update the grade of a specific student with ID 123 to 'A'. You can use the following SQL statement:\n",
        "\n",
        "```sql\n",
        "UPDATE Students\n",
        "SET Grade = 'A'\n",
        "WHERE StudentID = 123;\n",
        "```"
      ],
      "metadata": {
        "id": "BEVpj8Jyl16-"
      }
    },
    {
      "cell_type": "markdown",
      "source": [
        "## DELETE, TRUNCATE & DROP\n",
        "\n",
        "## 1.DELETE:\n",
        "\n",
        "Definition: The DELETE statement is **used to remove specific rows** from a table based on a specified condition. It's a data manipulation language (DML) command.\n",
        "\n",
        "Syntax:\n",
        "```sql\n",
        "DELETE FROM table_name\n",
        "WHERE condition;\n",
        "```\n",
        "Example: Suppose you have a table named \"Employees,\" and you want to delete the employee with an ID of 101.\n",
        "```sql\n",
        "DELETE FROM Employees\n",
        "WHERE EmployeeID = 101;\n",
        "```\n",
        "\n",
        "## 2.TRUNCATE\n",
        "\n",
        "Definition: The TRUNCATE statement is **used to remove all the rows from a table** while keeping the table structure intact. It's also a DDL command.\n",
        "\n",
        "Syntax:\n",
        "```sql\n",
        "TRUNCATE TABLE table_name;\n",
        "```\n",
        "Example: To remove all rows from the \"Students\" table while keeping the table structure, you can use:\n",
        "```sql\n",
        "TRUNCATE TABLE Students;\n",
        "```\n",
        "\n",
        "## 3.DROP\n",
        "\n",
        "Definition: The DROP statement is **used to delete an entire table or database** object, including all the data, indexes, and constraints. It's a data definition language (DDL) command.\n",
        "\n",
        "Syntax:\n",
        "\n",
        "1. To drop a table:\n",
        "\n",
        "```sql\n",
        "DROP TABLE table_name;\n",
        "```\n",
        "  EXAMPLE:\n",
        "```sql\n",
        "DROP TABLE Employees;\n",
        "```\n",
        "2. To drop a database:\n",
        "\n",
        "```sql\n",
        "DROP DATABASE database_name;\n",
        "```\n",
        "  EXAMPLE:\n",
        "```sql\n",
        "DROP DATABASE KPMG;\n",
        "```"
      ],
      "metadata": {
        "id": "e-lLWv8XnURJ"
      }
    },
    {
      "cell_type": "markdown",
      "source": [
        "## `AGGREGATE FUNCTIONS`\n",
        "\n",
        "Here are examples of how to use `COUNT`, `SUM`, `MAX`, `GROUP BY`, and `HAVING` to aggregate data using SQL code:\n",
        "\n",
        "Let's say we have a table named `orders` with the following columns: `order_id`, `customer_id`, `order_date`, and `total_amount`.\n",
        "\n",
        "1. **COUNT**: To count the number of orders for each customer:\n",
        "\n",
        "```sql\n",
        "SELECT customer_id, COUNT(order_id) AS order_count\n",
        "FROM orders\n",
        "GROUP BY customer_id;\n",
        "```\n",
        "\n",
        "2. **SUM**: To calculate the total amount spent by each customer:\n",
        "\n",
        "```sql\n",
        "SELECT customer_id, SUM(total_amount) AS total_spent\n",
        "FROM orders\n",
        "GROUP BY customer_id;\n",
        "```\n",
        "\n",
        "3. **MAX**: To find the highest order amount for each customer:\n",
        "\n",
        "```sql\n",
        "SELECT customer_id, MAX(total_amount) AS max_order_amount\n",
        "FROM orders\n",
        "GROUP BY customer_id;\n",
        "```\n",
        "\n",
        "4. **GROUP BY**: To group the results by a specific column (e.g., `order_date`) and then aggregate:\n",
        "\n",
        "```sql\n",
        "SELECT order_date, COUNT(order_id) AS order_count, SUM(total_amount) AS total_spent\n",
        "FROM orders\n",
        "GROUP BY order_date;\n",
        "```\n",
        "\n",
        "5. **HAVING**: To filter the results of a grouped query based on an aggregate condition (e.g., customers who have spent more than $1,000):\n",
        "\n",
        "```sql\n",
        "SELECT customer_id, SUM(total_amount) AS total_spent\n",
        "FROM orders\n",
        "GROUP BY customer_id\n",
        "HAVING SUM(total_amount) > 1000;\n",
        "```\n",
        "\n",
        "In this example, the `HAVING` clause filters the results to include only those customers whose total spending (`SUM(total_amount)`) is greater than $1,000.\n",
        "\n",
        "These SQL queries demonstrate how to use aggregate functions (`COUNT`, `SUM`, `MAX`) along with `GROUP BY` and `HAVING` to analyze and summarize data in a database."
      ],
      "metadata": {
        "id": "t_cHCfh2jnXj"
      }
    },
    {
      "cell_type": "markdown",
      "source": [
        "## `DISTINCT`\n",
        "\n",
        "Let's assume we have a table named `employees` with the following columns: `employee_id`, `first_name`, `last_name`, and `department`.\n",
        "\n",
        "1. **DISTINCT**: To retrieve a distinct list of departments:\n",
        "\n",
        "```sql\n",
        "SELECT DISTINCT department\n",
        "FROM employees;\n",
        "```\n",
        "\n",
        "This query will return a list of unique department names from the `employees` table.\n",
        "\n",
        "2. **COUNT DISTINCT**: To count the number of distinct departments:\n",
        "\n",
        "```sql\n",
        "SELECT COUNT(DISTINCT department) AS distinct_department_count\n",
        "FROM employees;\n",
        "```\n",
        "\n",
        "This query will return the count of unique department names in the `employees` table.\n",
        "\n",
        "3. **DISTINCT with Multiple Columns**: To get distinct combinations of `first_name` and `last_name`:\n",
        "\n",
        "```sql\n",
        "SELECT DISTINCT first_name, last_name\n",
        "FROM employees;\n",
        "```\n",
        "\n",
        "This query will return a list of unique combinations of first names and last names from the `employees` table.\n",
        "\n",
        "4. **COUNT DISTINCT with Multiple Columns**: To count the number of distinct employee combinations (first name and last name):\n",
        "\n",
        "```sql\n",
        "SELECT COUNT(DISTINCT first_name, last_name) AS distinct_employee_count\n",
        "FROM employees;\n",
        "```\n",
        "\n",
        "This query will return the count of unique combinations of first names and last names in the `employees` table.\n",
        "\n",
        "These SQL queries illustrate how to use `DISTINCT` to retrieve unique values or combinations and `COUNT DISTINCT` to count the number of unique values or combinations in a table. These operations are valuable for data analysis and reporting when you want to work with distinct elements within your dataset."
      ],
      "metadata": {
        "id": "MNtpmaCXW_rB"
      }
    },
    {
      "cell_type": "markdown",
      "source": [
        "## LIKE & ILIKE\n",
        "**1. LIKE:**\n",
        "\n",
        "The LIKE operator is case-sensitive, meaning it distinguishes between uppercase and lowercase characters.\n",
        "It's used to match text values based on patterns using wildcard characters:\n",
        "%: Matches any sequence of characters (including no characters).\n",
        "_: Matches any single character.\n",
        "For example, column_name LIKE 'abc%' would match values starting with 'abc', such as 'abc123' or 'abcxyz'.\n",
        "\n",
        "**2. ILIKE:**\n",
        "\n",
        "The ILIKE operator is case-insensitive, meaning it does not distinguish between uppercase and lowercase characters.\n",
        "It's used to perform a case-insensitive pattern match.\n",
        "It also uses wildcard characters % and _, just like LIKE.\n",
        "For example, column_name ILIKE 'abc%' would match values starting with 'abc' regardless of case, such as 'abc123', 'ABCXYZ', or 'aBc456'.\n",
        "\n",
        "**Examples:**\n",
        "\n",
        "Suppose you have a table called \"Products\" with a \"Product_Name\" column, and you want to retrieve products that have names starting with \"apple\" (case-insensitive):\n",
        "\n",
        "```sql\n",
        "-- Using ILIKE (case-insensitive)\n",
        "SELECT * FROM Products\n",
        "WHERE Product_Name ILIKE 'apple%';\n",
        "\n",
        "-- Using LIKE (case-sensitive)\n",
        "SELECT * FROM Products\n",
        "WHERE Product_Name LIKE 'apple%';\n",
        "```"
      ],
      "metadata": {
        "id": "q94mGaSL_cgW"
      }
    }
  ]
}